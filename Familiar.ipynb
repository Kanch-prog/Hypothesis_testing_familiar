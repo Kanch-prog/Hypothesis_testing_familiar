{
  "cells": [
    {
      "cell_type": "markdown",
      "metadata": {
        "id": "view-in-github",
        "colab_type": "text"
      },
      "source": [
        "<a href=\"https://colab.research.google.com/github/Kanch-prog/Hypothesis_testing_familiar/blob/main/Familiar.ipynb\" target=\"_parent\"><img src=\"https://colab.research.google.com/assets/colab-badge.svg\" alt=\"Open In Colab\"/></a>"
      ]
    },
    {
      "cell_type": "code",
      "source": [
        "!pip install scipy pandas"
      ],
      "metadata": {
        "colab": {
          "base_uri": "https://localhost:8080/"
        },
        "id": "13wEcQs8IMi9",
        "outputId": "4d22870e-b57f-4eec-b7d2-5b256e3e6df8"
      },
      "execution_count": 16,
      "outputs": [
        {
          "output_type": "stream",
          "name": "stdout",
          "text": [
            "Requirement already satisfied: scipy in /usr/local/lib/python3.10/dist-packages (1.11.4)\n",
            "Requirement already satisfied: pandas in /usr/local/lib/python3.10/dist-packages (2.0.3)\n",
            "Requirement already satisfied: numpy<1.28.0,>=1.21.6 in /usr/local/lib/python3.10/dist-packages (from scipy) (1.25.2)\n",
            "Requirement already satisfied: python-dateutil>=2.8.2 in /usr/local/lib/python3.10/dist-packages (from pandas) (2.8.2)\n",
            "Requirement already satisfied: pytz>=2020.1 in /usr/local/lib/python3.10/dist-packages (from pandas) (2023.4)\n",
            "Requirement already satisfied: tzdata>=2022.1 in /usr/local/lib/python3.10/dist-packages (from pandas) (2024.1)\n",
            "Requirement already satisfied: six>=1.5 in /usr/local/lib/python3.10/dist-packages (from python-dateutil>=2.8.2->pandas) (1.16.0)\n"
          ]
        }
      ]
    },
    {
      "cell_type": "code",
      "execution_count": 19,
      "metadata": {
        "colab": {
          "base_uri": "https://localhost:8080/"
        },
        "id": "gEhZxt2SbDGW",
        "outputId": "8941a9eb-9d45-4bfd-9693-0cbb63a1a520"
      },
      "outputs": [
        {
          "output_type": "stream",
          "name": "stdout",
          "text": [
            "     pack   lifespan\n",
            "0    vein  76.255090\n",
            "1  artery  76.404504\n",
            "2  artery  75.952442\n",
            "3  artery  76.923082\n",
            "4  artery  73.771212\n",
            "Index(['pack', 'lifespan'], dtype='object')\n",
            "0     76.255090\n",
            "7     74.502021\n",
            "8     76.937674\n",
            "9     74.838006\n",
            "11    77.484756\n",
            "12    79.969158\n",
            "13    77.047370\n",
            "15    72.874752\n",
            "18    77.492341\n",
            "19    77.583983\n",
            "21    75.993359\n",
            "23    74.798150\n",
            "24    73.343702\n",
            "26    78.326720\n",
            "27    76.341550\n",
            "30    77.488889\n",
            "33    72.142566\n",
            "34    76.532101\n",
            "37    75.993032\n",
            "38    77.435045\n",
            "Name: lifespan, dtype: float64\n",
            "76.169013356\n",
            "5.972157934323034e-07\n",
            "p-value:  0.0000 (significant)\n",
            "Reject the null hypothesis: The average lifespan is not 73 years\n",
            "1     76.404504\n",
            "2     75.952442\n",
            "3     76.923082\n",
            "4     73.771212\n",
            "5     74.117420\n",
            "6     74.963119\n",
            "10    73.319543\n",
            "14    75.857401\n",
            "16    76.335370\n",
            "17    73.079249\n",
            "20    76.152654\n",
            "22    77.023545\n",
            "25    74.639757\n",
            "28    78.385477\n",
            "29    68.314898\n",
            "31    77.386507\n",
            "32    73.044766\n",
            "35    74.544983\n",
            "36    73.355103\n",
            "39    73.902213\n",
            "Name: lifespan, dtype: float64\n",
            "74.873662235\n",
            "p-value: 0.0560 (not significant)\n",
            "Fail to reject the null hypothesis: The average lifespan of Vein Pack subscribers is not significantly different from Artery Pack subscribers.\n",
            "     pack    iron\n",
            "0    vein     low\n",
            "1  artery  normal\n",
            "2  artery  normal\n",
            "3  artery  normal\n",
            "4  artery    high\n",
            "iron    high  low  normal\n",
            "pack                     \n",
            "artery    87   29      29\n",
            "vein      20  140      40\n",
            "p-value: 0.0000 (significant)\n",
            "Reject the null hypothesis: There is an association between pack type and iron level.\n"
          ]
        }
      ],
      "source": [
        "# Import libraries\n",
        "import pandas as pd\n",
        "import numpy as np\n",
        "import scipy.stats as stats\n",
        "from scipy.stats import ttest_ind\n",
        "from scipy.stats import chi2_contingency\n",
        "\n",
        "# Load datasets\n",
        "lifespans = pd.read_csv('/content/drive/MyDrive/Colab Notebooks/familiar_lifespan.csv')\n",
        "iron = pd.read_csv('/content/drive/MyDrive/Colab Notebooks/familiar_iron.csv')\n",
        "print(lifespans.head())\n",
        "\n",
        "# Check the column names of lifespans DataFrame\n",
        "print(lifespans.columns)\n",
        "\n",
        "# Extracting life spans of vein pack\n",
        "vein_pack_lifespans = lifespans.lifespan[lifespans.pack=='vein']\n",
        "print(vein_pack_lifespans)\n",
        "\n",
        "# average lifespan for vein pack\n",
        "observed_average_lifespan_vein = np.mean(vein_pack_lifespans)\n",
        "print((observed_average_lifespan_vein))\n",
        "\n",
        "# Expected average lifespan (null hypothesis)\n",
        "expected_mean = 73\n",
        "\n",
        "# Perform one-sample t-test\n",
        "t_statistic, p_value = stats.ttest_1samp(vein_pack_lifespans, expected_mean)\n",
        "print(p_value)\n",
        "\n",
        "# Check if p-value is significant\n",
        "if p_value < 0.05:\n",
        "  print(f\"p-value: {p_value: .4f} (significant)\")\n",
        "  print(\"Reject the null hypothesis: The average lifespan is not 73 years\")\n",
        "else:\n",
        "    print(f\"p-value: {p_value:.4f} (not significant)\")\n",
        "    print(\"Fail to reject the null hypothesis: The average lifespan of Vein Pack subscribers is not significantly different from 73 years.\")\n",
        "\n",
        "#  get the lifespans of Artery Pack subscribers\n",
        "artery_pack_lifespans = lifespans.lifespan[lifespans.pack=='artery']\n",
        "print(artery_pack_lifespans)\n",
        "\n",
        "observed_average_lifespan_artery = np.mean(artery_pack_lifespans)\n",
        "print(observed_average_lifespan_artery)\n",
        "\n",
        "\n",
        "# Perform two-sample t-test\n",
        "t_statistic, p_value = stats.ttest_ind(vein_pack_lifespans, artery_pack_lifespans, equal_var=False)\n",
        "\n",
        "# Check if p-value is significant\n",
        "if p_value < 0.05:\n",
        "    print(f\"p-value: {p_value:.4f} (significant)\")\n",
        "    print(\"Reject the null hypothesis: The average lifespan of Vein Pack subscribers is different from Artery Pack subscribers.\")\n",
        "else:\n",
        "    print(f\"p-value: {p_value:.4f} (not significant)\")\n",
        "    print(\"Fail to reject the null hypothesis: The average lifespan of Vein Pack subscribers is not significantly different from Artery Pack subscribers.\")\n",
        "\n",
        "# Print first 5 rows of iron dataset\n",
        "print(iron.head())\n",
        "\n",
        "# Create a contingency table of pack and iron\n",
        "Xtab = pd.crosstab(iron['pack'], iron['iron'])\n",
        "print(Xtab)\n",
        "\n",
        "# Perform chi-sqaured test\n",
        "chi2_statistic, p_value, dof, exp = stats.chi2_contingency(Xtab)\n",
        "\n",
        "# Check if p-value is significant\n",
        "if p_value < 0.05:\n",
        "    print(f\"p-value: {p_value:.4f} (significant)\")\n",
        "    print(\"Reject the null hypothesis: There is an association between pack type and iron level.\")\n",
        "else:\n",
        "    print(f\"p-value: {p_value:.4f} (not significant)\")\n",
        "    print(\"Fail to reject the null hypothesis: No significant association between pack type and iron level.\")\n",
        "\n",
        "\n",
        "\n"
      ]
    }
  ],
  "metadata": {
    "colab": {
      "provenance": [],
      "mount_file_id": "1LI8Xr7TjERJXdMjQjBeEJXjU-MtgIKLx",
      "authorship_tag": "ABX9TyOnHr8QPCsDy8l6fG0nbpFe",
      "include_colab_link": true
    },
    "kernelspec": {
      "display_name": "Python 3",
      "name": "python3"
    },
    "language_info": {
      "name": "python"
    }
  },
  "nbformat": 4,
  "nbformat_minor": 0
}